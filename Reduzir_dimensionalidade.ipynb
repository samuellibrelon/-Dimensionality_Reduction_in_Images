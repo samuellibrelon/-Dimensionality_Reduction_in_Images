{
 "cells": [
  {
   "cell_type": "code",
   "execution_count": 149,
   "id": "01660c1b-de04-4dd3-a70a-6707fa4915db",
   "metadata": {},
   "outputs": [],
   "source": [
    "#Função para carregar a imagem\n",
    "def carregar_imagem(caminho):\n",
    "    with open(caminho, \"rb\") as f:\n",
    "        return bytearray(f.read())"
   ]
  },
  {
   "cell_type": "code",
   "execution_count": 150,
   "id": "04eb7517-1955-4b9c-b5f3-9f4a44ded3bc",
   "metadata": {},
   "outputs": [],
   "source": [
    "def salvar_imagem(caminho, conteudo):\n",
    "    with open(caminho, \"wb\") as f:\n",
    "        f.write(bytearray(conteudo))"
   ]
  },
  {
   "cell_type": "code",
   "execution_count": 151,
   "id": "cb47f735-2087-472d-ae00-6a4106ea2239",
   "metadata": {},
   "outputs": [],
   "source": [
    "# Função para converter imagem colorida para tons de cinza\n",
    "def converter_para_cinza(imagem):\n",
    "    # Preservar o cabeçalho estendido (138 bytes neste caso)\n",
    "    offset_pixels = 138\n",
    "    cabecalho = imagem_colorida[:offset_pixels]\n",
    "    largura = 512\n",
    "    altura = 512\n",
    "\n",
    "    # Pixels começam após o cabeçalho\n",
    "    pixels = imagem_colorida[offset_pixels:]\n",
    "\n",
    "    # Nova imagem com cabeçalho intacto\n",
    "    nova_imagem = bytearray(cabecalho)\n",
    "\n",
    "    # Cada linha de pixels deve ser múltiplo de 4 bytes (adicionar padding)\n",
    "    padding = (4 - (largura * 3) % 4) % 4\n",
    "\n",
    "    # Processar os pixels RGB para tons de cinza\n",
    "    for y in range(altura):\n",
    "        linha = []\n",
    "        for x in range(largura):\n",
    "            i = (y * (largura * 3 + padding)) + (x * 3)\n",
    "            b, g, r = pixels[i:i+3]  # BMP usa ordem BGR\n",
    "            cinza = int(0.2989 * r + 0.5870 * g + 0.1140 * b)\n",
    "            linha.extend([cinza, cinza, cinza])  # R=G=B\n",
    "        # Adicionar linha processada à nova imagem\n",
    "        nova_imagem.extend(linha)\n",
    "        nova_imagem.extend([0] * padding)  # Padding no final de cada linha\n",
    "\n",
    "    # Atualizar tamanho do arquivo no cabeçalho\n",
    "    tamanho_arquivo = len(nova_imagem)\n",
    "    nova_imagem[2:6] = tamanho_arquivo.to_bytes(4, \"little\")\n",
    "\n",
    "    return nova_imagem"
   ]
  },
  {
   "cell_type": "code",
   "execution_count": 152,
   "id": "a6a29212-87e0-42ad-a7f1-8f74f92d2c3a",
   "metadata": {},
   "outputs": [],
   "source": [
    "# Função para binarizar a imagem em preto e branco\n",
    "def binarizar_com_cabecalho_estendido(imagem_cinza, limiar=128):\n",
    "    # Preservar o cabeçalho estendido (138 bytes neste caso)\n",
    "    offset_pixels = 138\n",
    "    cabecalho = imagem_cinza[:offset_pixels]\n",
    "    largura = 512\n",
    "    altura = 512\n",
    "    \n",
    "    # Pixels começam após o cabeçalho\n",
    "    pixels = imagem_cinza[offset_pixels:]\n",
    "    \n",
    "    # Nova imagem com cabeçalho intacto\n",
    "    nova_imagem = bytearray(cabecalho)\n",
    "    \n",
    "    # Cada linha de pixels deve ser múltiplo de 4 bytes (adicionar padding)\n",
    "    padding = (4 - (largura * 3) % 4) % 4\n",
    "    \n",
    "    # Processar os pixels de tons de cinza para preto e branco\n",
    "    for y in range(altura):\n",
    "        linha = []\n",
    "        for x in range(largura):\n",
    "            i = (y * (largura * 3 + padding)) + (x * 3)\n",
    "            cinza = pixels[i]  # R=G=B, pois já está em tons de cinza\n",
    "            # Binarizar com base no limiar\n",
    "            valor_binario = 255 if cinza >= limiar else 0\n",
    "            linha.extend([valor_binario, valor_binario, valor_binario])  # R=G=B\n",
    "        \n",
    "        # Adicionar linha processada à nova imagem\n",
    "        nova_imagem.extend(linha)\n",
    "        nova_imagem.extend([0] * padding)  # Padding no final de cada linha\n",
    "    \n",
    "    # Atualizar tamanho do arquivo no cabeçalho\n",
    "    tamanho_arquivo = len(nova_imagem)\n",
    "    nova_imagem[2:6] = tamanho_arquivo.to_bytes(4, \"little\")\n",
    "    \n",
    "    return nova_imagem"
   ]
  },
  {
   "cell_type": "code",
   "execution_count": 153,
   "id": "fe1c7eeb-ac6a-4db2-bca7-a964775e17ff",
   "metadata": {},
   "outputs": [],
   "source": [
    "# Caminho da imagem original e saída\n",
    "caminho_original = 'images/lena-colorida.bmp'\n",
    "caminho_saida_cinza = 'images/lena-cinza.bmp'\n",
    "caminho_saida_binaria = 'images/lena-binaria.bmp'\n",
    "    "
   ]
  },
  {
   "cell_type": "code",
   "execution_count": 154,
   "id": "6100a77a-5a2e-4ece-a3b5-3b5f065e9c47",
   "metadata": {},
   "outputs": [],
   "source": [
    "imagem_colorida = carregar_imagem(caminho_original)"
   ]
  },
  {
   "cell_type": "code",
   "execution_count": 155,
   "id": "c0077a60-31ad-4847-9e73-d5a9f9e0b8d8",
   "metadata": {},
   "outputs": [
    {
     "name": "stdout",
     "output_type": "stream",
     "text": [
      "Imagem convertida para tons de cinza e salva em: images/lena-cinza.bmp\n"
     ]
    }
   ],
   "source": [
    "# Converter para tons de cinza\n",
    "imagem_cinza = converter_para_cinza(imagem_colorida)\n",
    "salvar_imagem(caminho_saida_cinza, imagem_cinza)\n",
    "print(\"Imagem convertida para tons de cinza e salva em:\", caminho_saida_cinza)"
   ]
  },
  {
   "cell_type": "code",
   "execution_count": 156,
   "id": "d47283ed-401d-40a0-90c1-9a329b9c2f08",
   "metadata": {},
   "outputs": [
    {
     "name": "stdout",
     "output_type": "stream",
     "text": [
      "Imagem binarizada e salva em: images/lena-binaria.bmp\n"
     ]
    }
   ],
   "source": [
    "# Converter para imagem binarizada\n",
    "imagem_binaria = binarizar_com_cabecalho_estendido(imagem_cinza, limiar=128)\n",
    "salvar_imagem(caminho_saida_binaria, imagem_binaria)\n",
    "print(\"Imagem binarizada e salva em:\", caminho_saida_binaria)"
   ]
  },
  {
   "cell_type": "code",
   "execution_count": null,
   "id": "d700f685-8777-4cae-b97b-f344afbf4b9d",
   "metadata": {},
   "outputs": [],
   "source": []
  }
 ],
 "metadata": {
  "kernelspec": {
   "display_name": "Python [conda env:base] *",
   "language": "python",
   "name": "conda-base-py"
  },
  "language_info": {
   "codemirror_mode": {
    "name": "ipython",
    "version": 3
   },
   "file_extension": ".py",
   "mimetype": "text/x-python",
   "name": "python",
   "nbconvert_exporter": "python",
   "pygments_lexer": "ipython3",
   "version": "3.12.7"
  }
 },
 "nbformat": 4,
 "nbformat_minor": 5
}
